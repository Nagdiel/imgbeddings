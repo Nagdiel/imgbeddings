{
 "cells": [
  {
   "cell_type": "markdown",
   "metadata": {},
   "source": [
    "# Pokémon Image Embeddings\n",
    "\n",
    "Can you create image embeddings of Pokémon in order to compare them? Let's find out!"
   ]
  },
  {
   "cell_type": "code",
   "execution_count": 1,
   "metadata": {},
   "outputs": [],
   "source": [
    "import requests\n",
    "import os\n",
    "from tqdm.auto import tqdm\n",
    "from imgbeddings import imgbeddings\n",
    "from PIL import Image\n",
    "import logging\n",
    "import numpy as np\n",
    "import pandas as pd\n",
    "\n",
    "logger = logging.getLogger()\n",
    "logger.setLevel(logging.INFO)"
   ]
  },
  {
   "cell_type": "markdown",
   "metadata": {},
   "source": [
    "Here's a compact script [modified from my AI Generated Pokémon experiments](https://github.com/minimaxir/ai-generated-pokemon-rudalle/blob/master/build_image_dataset.py) to obtain the metadata of all the normal forms of Pokémon, and download the images of the official portraits to `pokemon_images` if not already present. (roughly 30MB total)"
   ]
  },
  {
   "cell_type": "code",
   "execution_count": 2,
   "metadata": {},
   "outputs": [
    {
     "name": "stdout",
     "output_type": "stream",
     "text": [
      "/pokemon_images already exists; skipping downloading images.\n"
     ]
    }
   ],
   "source": [
    "folder_name = \"pokemon_images\"\n",
    "size = 224\n",
    "\n",
    "graphql_query = \"\"\"\n",
    "{\n",
    "  pokemon_v2_pokemon(where: {id: {_lt: 10000}}, order_by: {id: asc}) {\n",
    "    pokemon_v2_pokemontypes {\n",
    "      pokemon_v2_type {\n",
    "        name\n",
    "      }\n",
    "    }\n",
    "    id\n",
    "    name\n",
    "  }\n",
    "}\n",
    "\"\"\"\n",
    "\n",
    "image_url = (\n",
    "    \"https://raw.githubusercontent.com/PokeAPI/sprites/master/\"\n",
    "    \"sprites/pokemon/other/official-artwork/{0}.png\"\n",
    ")\n",
    "\n",
    "r = requests.post(\n",
    "    \"https://beta.pokeapi.co/graphql/v1beta\",\n",
    "    json={\n",
    "        \"query\": graphql_query,\n",
    "    },\n",
    ")\n",
    "\n",
    "pokemon = r.json()[\"data\"][\"pokemon_v2_pokemon\"]\n",
    "\n",
    "\n",
    "def encode_pokemon(p):\n",
    "    return {\n",
    "        \"id\": p[\"id\"],\n",
    "        \"name\": p[\"name\"].title(),\n",
    "        \"type_1\": p[\"pokemon_v2_pokemontypes\"][0][\"pokemon_v2_type\"][\"name\"].title(),\n",
    "    }\n",
    "\n",
    "\n",
    "poke_dict = [encode_pokemon(p) for p in pokemon]\n",
    "\n",
    "if os.path.exists(folder_name):\n",
    "    print(f\"/{folder_name} already exists; skipping downloading images.\")\n",
    "else:\n",
    "    print(f\"Saving Pokemon images to /{folder_name}.\")\n",
    "    os.makedirs(folder_name)\n",
    "    for p in tqdm(pokemon):\n",
    "        p_id = p[\"id\"]\n",
    "        img = Image.open(requests.get(image_url.format(p_id), stream=True).raw)\n",
    "        img = img.resize((size, size), Image.ANTIALIAS)\n",
    "\n",
    "        # https://stackoverflow.com/a/9459208\n",
    "        bg = Image.new(\"RGB\", (size, size), (255, 255, 255))\n",
    "        bg.paste(img, mask=img.split()[3])\n",
    "        name = f\"{p_id:04d}.png\"\n",
    "        bg.save(os.path.join(folder_name, name))\n"
   ]
  },
  {
   "cell_type": "code",
   "execution_count": 3,
   "metadata": {},
   "outputs": [],
   "source": [
    "ibed = imgbeddings()"
   ]
  },
  {
   "cell_type": "markdown",
   "metadata": {},
   "source": [
    "Now we can generate the 768D imgbeddings for all the Pokémon."
   ]
  },
  {
   "cell_type": "code",
   "execution_count": 4,
   "metadata": {},
   "outputs": [
    {
     "name": "stderr",
     "output_type": "stream",
     "text": [
      "INFO:root:Creating image embeddings in batches of 64.\n"
     ]
    },
    {
     "name": "stdout",
     "output_type": "stream",
     "text": [
      "['pokemon_images/0001.png', 'pokemon_images/0002.png', 'pokemon_images/0003.png', 'pokemon_images/0004.png', 'pokemon_images/0005.png', 'pokemon_images/0006.png', 'pokemon_images/0007.png', 'pokemon_images/0008.png', 'pokemon_images/0009.png', 'pokemon_images/0010.png']\n"
     ]
    },
    {
     "name": "stderr",
     "output_type": "stream",
     "text": [
      "100%|██████████| 898/898 [00:20<00:00, 43.19it/s]\n"
     ]
    },
    {
     "data": {
      "text/plain": [
       "(898, 768)"
      ]
     },
     "execution_count": 4,
     "metadata": {},
     "output_type": "execute_result"
    }
   ],
   "source": [
    "# get a list of all the Pokemon image filenames\n",
    "inputs = [os.path.join(folder_name, x) for x in os.listdir(folder_name)]\n",
    "inputs.sort()\n",
    "\n",
    "print(inputs[0:10])\n",
    "\n",
    "embeddings = ibed.to_embeddings(inputs)\n",
    "embeddings.shape"
   ]
  },
  {
   "cell_type": "markdown",
   "metadata": {},
   "source": [
    "Fit a PCA to the imgbeddings (for simplicity, we won't use any image augmentation as the Pokémon designs are already standardized), and generate the new embeddings."
   ]
  },
  {
   "cell_type": "code",
   "execution_count": 5,
   "metadata": {},
   "outputs": [
    {
     "name": "stderr",
     "output_type": "stream",
     "text": [
      "INFO:root:PCA saved at \"pca.npz\"; provide this as `pca` to imgbeddings() to reload.\n",
      "INFO:root:The fitted PCA explains 87.0% of the variance.\n"
     ]
    },
    {
     "data": {
      "text/plain": [
       "(898, 128)"
      ]
     },
     "execution_count": 5,
     "metadata": {},
     "output_type": "execute_result"
    }
   ],
   "source": [
    "ibed.pca_fit(embeddings, 128)\n",
    "\n",
    "embeddings_pca = ibed.pca_transform(embeddings)\n",
    "embeddings_pca.shape"
   ]
  },
  {
   "cell_type": "markdown",
   "metadata": {},
   "source": [
    "The PCA is automatically saved as `pca.npz`; we can also save the embeddings as a separate `.npy` file and reload them for conveinence."
   ]
  },
  {
   "cell_type": "code",
   "execution_count": 6,
   "metadata": {},
   "outputs": [],
   "source": [
    "np.save(\"pokemon_embeddings_pca.npy\", embeddings_pca)"
   ]
  },
  {
   "cell_type": "markdown",
   "metadata": {},
   "source": [
    "# Pokémon Similarity Search\n",
    "\n",
    "Let's build a `faiss` index to see which Pokémon are closest to another by visual design! (you can install faiss via `pip3 install faiss-cpu`) This approach find the Pokémon most similar using [cosine similarity](https://github.com/facebookresearch/faiss/wiki/MetricType-and-distances#how-can-i-index-vectors-for-cosine-similarity).\n",
    "\n",
    "First, load the embeddings and build the index."
   ]
  },
  {
   "cell_type": "code",
   "execution_count": 7,
   "metadata": {},
   "outputs": [
    {
     "name": "stderr",
     "output_type": "stream",
     "text": [
      "INFO:faiss.loader:Loading faiss with AVX2 support.\n",
      "INFO:faiss.loader:Could not load library with AVX2 support due to:\n",
      "ModuleNotFoundError(\"No module named 'faiss.swigfaiss_avx2'\")\n",
      "INFO:faiss.loader:Loading faiss.\n",
      "INFO:faiss.loader:Successfully loaded faiss.\n"
     ]
    }
   ],
   "source": [
    "import faiss\n",
    "from sklearn.preprocessing import normalize\n",
    "\n",
    "from IPython.display import HTML\n",
    "from io import BytesIO\n",
    "import base64"
   ]
  },
  {
   "cell_type": "code",
   "execution_count": 8,
   "metadata": {},
   "outputs": [
    {
     "data": {
      "text/plain": [
       "898"
      ]
     },
     "execution_count": 8,
     "metadata": {},
     "output_type": "execute_result"
    }
   ],
   "source": [
    "index = faiss.index_factory(embeddings_pca.shape[1], \"Flat\", faiss.METRIC_INNER_PRODUCT)\n",
    "\n",
    "index.add(normalize(embeddings_pca))\n",
    "index.ntotal"
   ]
  },
  {
   "cell_type": "markdown",
   "metadata": {},
   "source": [
    "Load a Pokémon embedding you already generated, then find the closest Pokémon! `faiss` will return the indices of the corresponding Pokemon.\n",
    "\n",
    "Let's start with Pikachu (id `25`), and find the 10 closest Pokemon and get their similarity."
   ]
  },
  {
   "cell_type": "code",
   "execution_count": 9,
   "metadata": {},
   "outputs": [
    {
     "name": "stdout",
     "output_type": "stream",
     "text": [
      "[[ 25 172 311  40  35 293 184 133 877 312  36]]\n",
      "[[0.99999994 0.7427708  0.7337232  0.70968986 0.60434663 0.59117395\n",
      "  0.57745117 0.5616351  0.5354088  0.5277879  0.51303416]]\n"
     ]
    }
   ],
   "source": [
    "search_id = 25\n",
    "\n",
    "# faiss results are zero-indexed, so must -1 when searching, +1 after retrieving\n",
    "q_embedding = np.expand_dims(embeddings_pca[search_id - 1, :], 0)\n",
    "\n",
    "# the search will return the query itself, so search for +1 result\n",
    "distances, indices = index.search(normalize(q_embedding), 10 + 1)\n",
    "print(indices + 1)\n",
    "print(distances)\n"
   ]
  },
  {
   "cell_type": "code",
   "execution_count": 10,
   "metadata": {},
   "outputs": [
    {
     "data": {
      "text/html": [
       "<table border=\"1\" class=\"dataframe\">\n",
       "  <thead>\n",
       "    <tr style=\"text-align: right;\">\n",
       "      <th>ID</th>\n",
       "      <th>Name</th>\n",
       "      <th>Similarity</th>\n",
       "      <th>Image</th>\n",
       "    </tr>\n",
       "  </thead>\n",
       "  <tbody>\n",
       "    <tr>\n",
       "      <td>25</td>\n",
       "      <td>Pikachu</td>\n",
       "      <td>100.0%</td>\n",
       "      <td><img src=\"data:image/jpeg;base64,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\"></td>\n",
       "    </tr>\n",
       "    <tr>\n",
       "      <td>172</td>\n",
       "      <td>Pichu</td>\n",
       "      <td>74.3%</td>\n",
       "      <td><img src=\"data:image/jpeg;base64,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\"></td>\n",
       "    </tr>\n",
       "    <tr>\n",
       "      <td>311</td>\n",
       "      <td>Plusle</td>\n",
       "      <td>73.4%</td>\n",
       "      <td><img src=\"data:image/jpeg;base64,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\"></td>\n",
       "    </tr>\n",
       "    <tr>\n",
       "      <td>40</td>\n",
       "      <td>Wigglytuff</td>\n",
       "      <td>71.0%</td>\n",
       "      <td><img src=\"data:image/jpeg;base64,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\"></td>\n",
       "    </tr>\n",
       "    <tr>\n",
       "      <td>35</td>\n",
       "      <td>Clefairy</td>\n",
       "      <td>60.4%</td>\n",
       "      <td><img src=\"data:image/jpeg;base64,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\"></td>\n",
       "    </tr>\n",
       "    <tr>\n",
       "      <td>293</td>\n",
       "      <td>Whismur</td>\n",
       "      <td>59.1%</td>\n",
       "      <td><img src=\"data:image/jpeg;base64,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\"></td>\n",
       "    </tr>\n",
       "    <tr>\n",
       "      <td>184</td>\n",
       "      <td>Azumarill</td>\n",
       "      <td>57.7%</td>\n",
       "      <td><img src=\"data:image/jpeg;base64,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\"></td>\n",
       "    </tr>\n",
       "    <tr>\n",
       "      <td>133</td>\n",
       "      <td>Eevee</td>\n",
       "      <td>56.2%</td>\n",
       "      <td><img src=\"data:image/jpeg;base64,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\"></td>\n",
       "    </tr>\n",
       "    <tr>\n",
       "      <td>877</td>\n",
       "      <td>Morpeko-Full-Belly</td>\n",
       "      <td>53.5%</td>\n",
       "      <td><img src=\"data:image/jpeg;base64,/9j/4AAQSkZJRgABAQAAAQABAAD/2wBDAAgGBgcGBQgHBwcJCQgKDBQNDAsLDBkSEw8UHRofHh0aHBwgJC4nICIsIxwcKDcpLDAxNDQ0Hyc5PTgyPC4zNDL/2wBDAQkJCQwLDBgNDRgyIRwhMjIyMjIyMjIyMjIyMjIyMjIyMjIyMjIyMjIyMjIyMjIyMjIyMjIyMjIyMjIyMjIyMjL/wAARCABAAEADASIAAhEBAxEB/8QAHwAAAQUBAQEBAQEAAAAAAAAAAAECAwQFBgcICQoL/8QAtRAAAgEDAwIEAwUFBAQAAAF9AQIDAAQRBRIhMUEGE1FhByJxFDKBkaEII0KxwRVS0fAkM2JyggkKFhcYGRolJicoKSo0NTY3ODk6Q0RFRkdISUpTVFVWV1hZWmNkZWZnaGlqc3R1dnd4eXqDhIWGh4iJipKTlJWWl5iZmqKjpKWmp6ipqrKztLW2t7i5usLDxMXGx8jJytLT1NXW19jZ2uHi4+Tl5ufo6erx8vP09fb3+Pn6/8QAHwEAAwEBAQEBAQEBAQAAAAAAAAECAwQFBgcICQoL/8QAtREAAgECBAQDBAcFBAQAAQJ3AAECAxEEBSExBhJBUQdhcRMiMoEIFEKRobHBCSMzUvAVYnLRChYkNOEl8RcYGRomJygpKjU2Nzg5OkNERUZHSElKU1RVVldYWVpjZGVmZ2hpanN0dXZ3eHl6goOEhYaHiImKkpOUlZaXmJmaoqOkpaanqKmqsrO0tba3uLm6wsPExcbHyMnK0tPU1dbX2Nna4uPk5ebn6Onq8vP09fb3+Pn6/9oADAMBAAIRAxEAPwD3+iikJwCfSgBaKwdN19rq6WK4jRVl/wBWyZ69gf8AGt6phNTV4jcXF2YUVhaz4s07RpjBIXmuAMmKIA7fqTwP51c0TV49b08XkcMkS7ym2THOO4x2qhGjRRRQAUjZ2nABPYGlooA8ulN9pur4khe1Kv5ixtlkxuyMHuM/pW3qmv6jH4dl1C3vbeKWNuS2CuP7oGD8x4GDWP4zkvZNWvTZxtJLGYk+VQxRPl3EAkAkAsQM81e0zULax8O/Z9bS3FxBGXvLdVDNs3EKzLk8sNpxk4JrzJOdOXubXOqS5orTU88tkvNc15VN5HFcXchJlmYqpcnpwD16D8K95020+w6bbWpEQMUYU+UpVc45wCSf1rwqXw7c2sMuqRXkb24jEyAF8tliwYBh8nylRt6fLXutndpcWdrKzqGmiVwM9cgGvRjJSV0c8oyjuWqKKKokKKKKAPO/Ek23xDdmJ8ZVUY8ddoqzBoNhq0ceo3dpsuZQC7Rtt8wDgE/UAVLr2gzX2r3LW8kMauqlg+c7sdeO3+FaWnWZ0+zWAy+YQSScYGT2A9K8bEzkptJ9TrjNqK5WeXeLry8XWrq1uHENvDtjSKNsIIx936nB711PgO01DXz/AGle3lybC38uO2TO1XKenqBwPc5qlrPgBri7uLgalCkErlz9oDbhk56jrXoPhW1Fj4X062Vw6xQKquBjcOxxXoUJ05xUYvZHNK/U2KKKK6SQooooAwPEejTaiIprMFLpAR5gbGV/ukZHvz2/GqVl4b1SSANd6rLC5P8Aq4juwPcmusorCWHpzlzSRSm0rI4abwlqL3+JZzcWobIJb5nH905Py/UV28aLHGqIoVVAAUdAPSnUVVOjGnfl6hKTluFFFFakn//Z\"></td>\n",
       "    </tr>\n",
       "    <tr>\n",
       "      <td>312</td>\n",
       "      <td>Minun</td>\n",
       "      <td>52.8%</td>\n",
       "      <td><img src=\"data:image/jpeg;base64,/9j/4AAQSkZJRgABAQAAAQABAAD/2wBDAAgGBgcGBQgHBwcJCQgKDBQNDAsLDBkSEw8UHRofHh0aHBwgJC4nICIsIxwcKDcpLDAxNDQ0Hyc5PTgyPC4zNDL/2wBDAQkJCQwLDBgNDRgyIRwhMjIyMjIyMjIyMjIyMjIyMjIyMjIyMjIyMjIyMjIyMjIyMjIyMjIyMjIyMjIyMjIyMjL/wAARCABAAEADASIAAhEBAxEB/8QAHwAAAQUBAQEBAQEAAAAAAAAAAAECAwQFBgcICQoL/8QAtRAAAgEDAwIEAwUFBAQAAAF9AQIDAAQRBRIhMUEGE1FhByJxFDKBkaEII0KxwRVS0fAkM2JyggkKFhcYGRolJicoKSo0NTY3ODk6Q0RFRkdISUpTVFVWV1hZWmNkZWZnaGlqc3R1dnd4eXqDhIWGh4iJipKTlJWWl5iZmqKjpKWmp6ipqrKztLW2t7i5usLDxMXGx8jJytLT1NXW19jZ2uHi4+Tl5ufo6erx8vP09fb3+Pn6/8QAHwEAAwEBAQEBAQEBAQAAAAAAAAECAwQFBgcICQoL/8QAtREAAgECBAQDBAcFBAQAAQJ3AAECAxEEBSExBhJBUQdhcRMiMoEIFEKRobHBCSMzUvAVYnLRChYkNOEl8RcYGRomJygpKjU2Nzg5OkNERUZHSElKU1RVVldYWVpjZGVmZ2hpanN0dXZ3eHl6goOEhYaHiImKkpOUlZaXmJmaoqOkpaanqKmqsrO0tba3uLm6wsPExcbHyMnK0tPU1dbX2Nna4uPk5ebn6Onq8vP09fb3+Pn6/9oADAMBAAIRAxEAPwD3+qWpX4sLcMFDSudqKfX1PsKu1zGvzA6ois3EcQwPdic/+girpx5pJGdWfJBs1NH1GS9SWOcJ5sZBygwGU9Djt0IrTrkdBux/bYjByHiZfyII/rXXU6sOSVhUZ88LhRRRWZqFFFFABXFeKwU1hOuHhBH1BI/wrtaxvEWmLf2scwKCS3cNhzgOuRuQkeuPzrWjUVOfMzGvTdSm4o5jw4ynxDa7WB+/0P8AsGvQKwjp+b+HUIljt5UhaMKYwSMkdcHHGMfiaszyXzW0kayIxddoZRsZc9xyRkVjVxkKkuZ6FUMO6UeW9yhq3iZYHe3ssNIp2tKRkKe4Hqf0Hv0rmLm+ubst51xM47gucfl0/Sp9Ys7Owu4LaykeR2U7o93mMuMAdOecnj2q1p/hq+vMPcA2kJ/vDMhHsvb8fyr0KEqCpqp+ZwV/rE6jgvw2+8j8OQ3Murw/Z3dIojvmIPBXBwp9ySPyzXe1XsrK30+2W3t02oOT3LHuSe5qxXLWqe0ldKx20KTpw5W7hWP4iu5bKyjmjTcA5zk8Btp2k+o3YrYrl/F1ldTxq8W94ShSRFlKlOc7+vT1PbANZqKl7rdjScnGN0rieFLjWbnw5aTa/bC21J93mQg5288Z9yBn8aoT+MBbeOZPD01nKkUdqLk3RX5CpH553YGMevpWxa2kgtIRO8U8iRqvmplSwx3wax/EsF00dq6RxrbwuVfzGG3BHBx379cda8+lGNSryvqa1JOEOZdDoNCube6+0y2xQxu4fcq4OSMHPfOR3rYrG8L21tbaDB9leR0kLSNJIu0sxJycdh2HsB1rZruUeX3exmndXYUUUUxhXAa2I9P8bRTTybIZCsgZm4GVK4PtkDPsa7+sHxF4ZTX3t3NwYGiDKxCbtynt19R+prSm1dqWzTRlWjKUU47pplfTxJ9pM0nyosZUknJdiQTz3xg8+/FX7ewtb+SaW5hEyiUbVflcqAM7emc5/Kk/sdoGCWnlxq0aq8mMHcON20DBJH8q1IIEtoEhjGFUYGTkn3PvXFSouM22dEpJqxIAAMDgUUUV0kBRRRQB/9k=\"></td>\n",
       "    </tr>\n",
       "    <tr>\n",
       "      <td>36</td>\n",
       "      <td>Clefable</td>\n",
       "      <td>51.3%</td>\n",
       "      <td><img src=\"data:image/jpeg;base64,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\"></td>\n",
       "    </tr>\n",
       "  </tbody>\n",
       "</table>"
      ],
      "text/plain": [
       "<IPython.core.display.HTML object>"
      ]
     },
     "execution_count": 10,
     "metadata": {},
     "output_type": "execute_result"
    }
   ],
   "source": [
    "# https://www.kaggle.com/code/stassl/displaying-inline-images-in-pandas-dataframe/notebook\n",
    "\n",
    "def get_thumbnail(path):\n",
    "    i = Image.open(path)\n",
    "    i.thumbnail((64, 64), Image.LANCZOS)\n",
    "    return i\n",
    "\n",
    "def image_base64(im):\n",
    "    if isinstance(im, str):\n",
    "        im = get_thumbnail(im)\n",
    "    with BytesIO() as buffer:\n",
    "        im.save(buffer, 'jpeg')\n",
    "        return base64.b64encode(buffer.getvalue()).decode()\n",
    "\n",
    "def image_formatter(im):\n",
    "    return f'<img src=\"data:image/jpeg;base64,{image_base64(im)}\">'\n",
    "\n",
    "def percent_formatter(perc):\n",
    "    return f\"{perc:.1%}\"\n",
    "\n",
    "data = []\n",
    "for i, idx in enumerate(indices[0]):\n",
    "    data.append([idx + 1, poke_dict[idx][\"name\"], distances[0][i], get_thumbnail(inputs[idx])])\n",
    "\n",
    "pd.set_option('display.max_colwidth', None)\n",
    "df = pd.DataFrame(data, columns=[\"ID\", \"Name\", \"Similarity\", \"Image\"])\n",
    "\n",
    "HTML(df.to_html(formatters={\"Image\": image_formatter, \"Similarity\": percent_formatter}, escape=False, index=False))"
   ]
  },
  {
   "cell_type": "markdown",
   "metadata": {},
   "source": [
    "To the eyes of an AI, similarity is not necessairly color; it can be shapes and curves as well. If you check other Pokémon by tweaking the `search_id` above, you'll notice that the similar images tend to have the [same stance and body features](https://twitter.com/minimaxir/status/1507166313281585164).\n",
    "\n",
    "You can use the cell below to run your own images though the index and see what Pokémon they are most similar to!"
   ]
  },
  {
   "cell_type": "code",
   "execution_count": 11,
   "metadata": {},
   "outputs": [
    {
     "data": {
      "text/html": [
       "<table border=\"1\" class=\"dataframe\">\n",
       "  <thead>\n",
       "    <tr style=\"text-align: right;\">\n",
       "      <th>ID</th>\n",
       "      <th>Name</th>\n",
       "      <th>Similarity</th>\n",
       "      <th>Image</th>\n",
       "    </tr>\n",
       "  </thead>\n",
       "  <tbody>\n",
       "    <tr>\n",
       "      <td>—</td>\n",
       "      <td>Input Image</td>\n",
       "      <td>100.0%</td>\n",
       "      <td><img src=\"data:image/jpeg;base64,/9j/4AAQSkZJRgABAQAAAQABAAD/2wBDAAgGBgcGBQgHBwcJCQgKDBQNDAsLDBkSEw8UHRofHh0aHBwgJC4nICIsIxwcKDcpLDAxNDQ0Hyc5PTgyPC4zNDL/2wBDAQkJCQwLDBgNDRgyIRwhMjIyMjIyMjIyMjIyMjIyMjIyMjIyMjIyMjIyMjIyMjIyMjIyMjIyMjIyMjIyMjIyMjL/wAARCAAjAEADASIAAhEBAxEB/8QAHwAAAQUBAQEBAQEAAAAAAAAAAAECAwQFBgcICQoL/8QAtRAAAgEDAwIEAwUFBAQAAAF9AQIDAAQRBRIhMUEGE1FhByJxFDKBkaEII0KxwRVS0fAkM2JyggkKFhcYGRolJicoKSo0NTY3ODk6Q0RFRkdISUpTVFVWV1hZWmNkZWZnaGlqc3R1dnd4eXqDhIWGh4iJipKTlJWWl5iZmqKjpKWmp6ipqrKztLW2t7i5usLDxMXGx8jJytLT1NXW19jZ2uHi4+Tl5ufo6erx8vP09fb3+Pn6/8QAHwEAAwEBAQEBAQEBAQAAAAAAAAECAwQFBgcICQoL/8QAtREAAgECBAQDBAcFBAQAAQJ3AAECAxEEBSExBhJBUQdhcRMiMoEIFEKRobHBCSMzUvAVYnLRChYkNOEl8RcYGRomJygpKjU2Nzg5OkNERUZHSElKU1RVVldYWVpjZGVmZ2hpanN0dXZ3eHl6goOEhYaHiImKkpOUlZaXmJmaoqOkpaanqKmqsrO0tba3uLm6wsPExcbHyMnK0tPU1dbX2Nna4uPk5ebn6Onq8vP09fb3+Pn6/9oADAMBAAIRAxEAPwD2vWNcttE+zG6DBJ5Nm/sv+f8AGovD2unW47tmg8owTGMc53Dsa4nxlcwX/iJIYbmbETfv42xhCnRl79yOnvTdI16TREkuEiXyzhWiJxux3+vPWvInmHJiOWXw/wBfr9xuqV4XW56dMzCNhGV80ghAx4LY4rz/AMS+MNU02GC1+yn7ShxctBllc4HCkdM+9YPxB8R303hy0vHVrYpdjYoOC2Ubn1HpXDSai0FlYyTm6ntp12tJDIwKNjOTt5JJz69K2xNR1ILkvr8v6fzFCGup67o3je3bVodPkF0GePc6yxkFMjK9eTnpxXbWdw11aJM8Lws3WN/vLz3rwmz1oPa3MtrdXswtoWEstwm1cbSQqnapDdDxXRfDvWZ5/Bt1A96ySSTOEmLbmViAck9etZYBzpxcJX93v5+b/D1HUirnbeKteuNEuNN8ja0ckhM6nrsGP8av+H9di16xa4jTyyshQruyeO/9Pwryy6u7u6vXS8mWa4jJjf592AOmP8963fA39o22oSG2sfPtXcRvOflES9SBzg88ng0UsZOWIatp23/r8glTShc6nxjpAv8ARpZYLdGvIsOjhfmAHX68dq8ntV1W8123SJDM4bPkRjOcevoB7173UaQRRuzpEiu33mCgE121MNCc1PqZxnZWPnH4mxajp9zYafqDIrur3PlpJuwPujJ9etc1oevGzi+yzg+Ux+ViN2PUEelezfFHw5aaxqthPOrq6wMiyI2M/NnB9ev61geH/hxY2Wowag108xUHEbgEA460pU4tcjLUnucNq/iLNm9tG8jF1+UbdqqvrjAz7fnzXSfC7StR19NT+yTxQx27RMVl3cllPTH+7Wn4o8FWeo3UU4eSJIk8tRGFAIBz/U13Hwv0K00TR7wWqP8Avpwzu7ZLEKBj8P604UoJcthOT3OUl8Fa3HfuptZi8jHMsLAqfqf6mvVtFsDpmj2tmcZiQA46A1forSnRjBuS6kSlcKKKK1JPLPilNLHqlgUdhtCqADxhic8fgPyrK0e7nZ8NISMUUVy1PiNo/CWdZuZRDkPzjGcCuq+GE8s/hVWlcsS5Yk+p60UVdLciZ2tFFFbkH//Z\"></td>\n",
       "    </tr>\n",
       "    <tr>\n",
       "      <td>68</td>\n",
       "      <td>Machamp</td>\n",
       "      <td>51.5%</td>\n",
       "      <td><img src=\"data:image/jpeg;base64,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\"></td>\n",
       "    </tr>\n",
       "    <tr>\n",
       "      <td>97</td>\n",
       "      <td>Hypno</td>\n",
       "      <td>45.6%</td>\n",
       "      <td><img src=\"data:image/jpeg;base64,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\"></td>\n",
       "    </tr>\n",
       "    <tr>\n",
       "      <td>67</td>\n",
       "      <td>Machoke</td>\n",
       "      <td>45.1%</td>\n",
       "      <td><img src=\"data:image/jpeg;base64,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\"></td>\n",
       "    </tr>\n",
       "    <tr>\n",
       "      <td>70</td>\n",
       "      <td>Weepinbell</td>\n",
       "      <td>40.0%</td>\n",
       "      <td><img src=\"data:image/jpeg;base64,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\"></td>\n",
       "    </tr>\n",
       "    <tr>\n",
       "      <td>812</td>\n",
       "      <td>Rillaboom</td>\n",
       "      <td>39.3%</td>\n",
       "      <td><img src=\"data:image/jpeg;base64,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\"></td>\n",
       "    </tr>\n",
       "    <tr>\n",
       "      <td>96</td>\n",
       "      <td>Drowzee</td>\n",
       "      <td>37.6%</td>\n",
       "      <td><img src=\"data:image/jpeg;base64,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\"></td>\n",
       "    </tr>\n",
       "    <tr>\n",
       "      <td>765</td>\n",
       "      <td>Oranguru</td>\n",
       "      <td>36.9%</td>\n",
       "      <td><img src=\"data:image/jpeg;base64,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\"></td>\n",
       "    </tr>\n",
       "    <tr>\n",
       "      <td>764</td>\n",
       "      <td>Comfey</td>\n",
       "      <td>35.7%</td>\n",
       "      <td><img src=\"data:image/jpeg;base64,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\"></td>\n",
       "    </tr>\n",
       "    <tr>\n",
       "      <td>539</td>\n",
       "      <td>Sawk</td>\n",
       "      <td>34.2%</td>\n",
       "      <td><img src=\"data:image/jpeg;base64,/9j/4AAQSkZJRgABAQAAAQABAAD/2wBDAAgGBgcGBQgHBwcJCQgKDBQNDAsLDBkSEw8UHRofHh0aHBwgJC4nICIsIxwcKDcpLDAxNDQ0Hyc5PTgyPC4zNDL/2wBDAQkJCQwLDBgNDRgyIRwhMjIyMjIyMjIyMjIyMjIyMjIyMjIyMjIyMjIyMjIyMjIyMjIyMjIyMjIyMjIyMjIyMjL/wAARCABAAEADASIAAhEBAxEB/8QAHwAAAQUBAQEBAQEAAAAAAAAAAAECAwQFBgcICQoL/8QAtRAAAgEDAwIEAwUFBAQAAAF9AQIDAAQRBRIhMUEGE1FhByJxFDKBkaEII0KxwRVS0fAkM2JyggkKFhcYGRolJicoKSo0NTY3ODk6Q0RFRkdISUpTVFVWV1hZWmNkZWZnaGlqc3R1dnd4eXqDhIWGh4iJipKTlJWWl5iZmqKjpKWmp6ipqrKztLW2t7i5usLDxMXGx8jJytLT1NXW19jZ2uHi4+Tl5ufo6erx8vP09fb3+Pn6/8QAHwEAAwEBAQEBAQEBAQAAAAAAAAECAwQFBgcICQoL/8QAtREAAgECBAQDBAcFBAQAAQJ3AAECAxEEBSExBhJBUQdhcRMiMoEIFEKRobHBCSMzUvAVYnLRChYkNOEl8RcYGRomJygpKjU2Nzg5OkNERUZHSElKU1RVVldYWVpjZGVmZ2hpanN0dXZ3eHl6goOEhYaHiImKkpOUlZaXmJmaoqOkpaanqKmqsrO0tba3uLm6wsPExcbHyMnK0tPU1dbX2Nna4uPk5ebn6Onq8vP09fb3+Pn6/9oADAMBAAIRAxEAPwD3+iiuM1Xxatl41sdPhu0kgkwk8YwQhJYEk9QRgH8KqMXLYmUlHc7Oquo38OmWMl3OcIg6DqxPAA9yar6NrdnrttLc2RdoUkMYdlwG4ByPbmvM/iJ4lln19tNjdls7OMOwHR5Tjn6AHA9804QvNRloKU7Qco6mzN8RbuGVZfskDQdTCCd+P97pn8K76yu4b+ygu7dt0MyCRD6gjNfN8uqjE8NrFPPcBGkACdB/eY9gCa9W+EmvDVPDEljJIGnsJmjHHWM8qf1I/CtsRGmkuQyoyqNvnR6DRRRXMdAV8763qM1xrMt0kgDv5uGCjGGJ4z9Cfzr6HddyFfUYrxN/ClwupLHeOiRwPtbqS+D9MY/xrpw8opSucuJbXL2O/tbWPwp4Xs9KgmHnygl5gOhPLN9Ow/CvHvHRmtPE1vqGcRXEPlnYePlyjD8sGvSreV9SmtkJE9ySEUnkbdp2/Tvn8a5Xx1Yyy215pJRZZrWTzIJMYYnGf1Bx+VZbavcSm5Suvh2OQa/ltfDjWqT7w8ZkkZOh59frj24FafgCe/0W2Go267d0pClwdsgUAMvuP5VxsF7d31tBpNvFvllmCRDuSxGF/wC+q+lIfCtlp3gOHRpiNtrb7jMOokwSXH1Yn8DiqqzjK3L2NI05JO71uamia/Z65bCS3bbMFBkhY/Mmf5j3rVryrS7vTtM1mykt7jZKGCyHcdjg8EemT1H0Feq1nKLjuVSqc6CsLxBpU86G6sYxJcgYaLcF3+nJ4yK3ar315HYWUt1KcJGuTzSTaehc4qStLY5qzX/hH7aK4v4wLyYGOGIOMKB1yemT7f415n4k0vxa2s3uq2t1BcwzOZTG+F8sAdMN2AHUGtXTPGN54o8RXSFIJbDYWO5OY06Lj1ye31rF+IEl9otsumpPMEu1MjwEklIs8A+mTnj0FVdWuzntJS5I7HNeDBejx1pepC1hCS3BkAPyqQvL7M/xY/nXsvjDxG15oc0emRTSeU4+1KowyLg4PHVdw5I6d6888VeFtS8OeD/Dt8LhS8MgwsaENG7rvOT35GKytQ1bVtJgg1a2BiuCiyhyxUqjdCuOozkf404NJ3NJKT06M1dD0y/8S39ra2do6IoUTzY+WMA53E9M4z719AiuO+Gniu48XeFRe3lusVzDM0EjIMJIQAdwHbryPWuxoq1XUd2VTpqCsgrnPFoS7tV051LRyqxlUEjKkYxkfU/lXR1xniHwlqGra1Jd29zCkbxqoLs2Y8DnAA70oJOWrsFVScGomT4W8O2Gh38UdkjKJZ1d977icA4GfQV3Wp6LpmsxLHqNlDcqvK+YuSPoeorL0LwvJphSS81CS7kQ5QEYVfxOSfxNdHRO19CaEZRj725S1PTLTUrLyLm0huUQiRIpR8u8fdzXh3iIW731xDrUTtO5HmRFduwDoBjGAMcY7V79Ve5sLO9AF1awTgdBLGGx+dKLSepc4uWzOf8Ah7DpsHguxj0tQsA3lx3Em47gffP9K6iora1t7OBYLaCOGJeiRoFUfgKlqWUtj//Z\"></td>\n",
       "    </tr>\n",
       "    <tr>\n",
       "      <td>272</td>\n",
       "      <td>Ludicolo</td>\n",
       "      <td>34.2%</td>\n",
       "      <td><img src=\"data:image/jpeg;base64,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\"></td>\n",
       "    </tr>\n",
       "  </tbody>\n",
       "</table>"
      ],
      "text/plain": [
       "<IPython.core.display.HTML object>"
      ]
     },
     "execution_count": 11,
     "metadata": {},
     "output_type": "execute_result"
    }
   ],
   "source": [
    "img_path = \"/Users/maxwoolf/Downloads/shrek-facts.jpg\"\n",
    "\n",
    "img_embedding = ibed.to_embeddings(img_path)\n",
    "distances, indices = index.search(normalize(img_embedding), 10)\n",
    "\n",
    "data = [[\"—\", \"Input Image\", 1, get_thumbnail(img_path)]]\n",
    "for i, idx in enumerate(indices[0]):\n",
    "    data.append([idx + 1, poke_dict[idx][\"name\"], distances[0][i], get_thumbnail(inputs[idx])])\n",
    "\n",
    "pd.set_option('display.max_colwidth', None)\n",
    "df = pd.DataFrame(data, columns=[\"ID\", \"Name\", \"Similarity\", \"Image\"])\n",
    "\n",
    "HTML(df.to_html(formatters={\"Image\": image_formatter, \"Similarity\": percent_formatter}, escape=False, index=False))"
   ]
  }
 ],
 "metadata": {
  "interpreter": {
   "hash": "aee8b7b246df8f9039afb4144a1f6fd8d2ca17a180786b69acc140d282b71a49"
  },
  "kernelspec": {
   "display_name": "Python 3.9.7 64-bit",
   "language": "python",
   "name": "python3"
  },
  "language_info": {
   "codemirror_mode": {
    "name": "ipython",
    "version": 3
   },
   "file_extension": ".py",
   "mimetype": "text/x-python",
   "name": "python",
   "nbconvert_exporter": "python",
   "pygments_lexer": "ipython3",
   "version": "3.9.7"
  },
  "orig_nbformat": 4
 },
 "nbformat": 4,
 "nbformat_minor": 2
}
